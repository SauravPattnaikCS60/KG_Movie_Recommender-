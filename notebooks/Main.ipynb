{
 "cells": [
  {
   "cell_type": "code",
   "execution_count": 1,
   "id": "b7ec6953",
   "metadata": {},
   "outputs": [],
   "source": [
    "import os\n",
    "\n",
    "os.environ['TRANSFORMERS_CACHE'] = './hugging_face_models/cache/'\n",
    "os.environ['TORCH_HOME'] = './hugging_face_models/cache/'\n",
    "os.environ['SENTENCE_TRANSFORMERS_HOME'] = './hugging_face_models/cache/'"
   ]
  },
  {
   "cell_type": "code",
   "execution_count": 2,
   "id": "ecf1b66a",
   "metadata": {},
   "outputs": [],
   "source": [
    "import pandas as pd\n",
    "import numpy as np\n",
    "import matplotlib.pyplot as plt\n",
    "import seaborn as sns\n",
    "from sentence_transformers import SentenceTransformer\n",
    "import warnings\n",
    "\n",
    "warnings.filterwarnings('ignore')\n",
    "import ast\n",
    "import re\n",
    "import math\n",
    "from scipy.spatial.distance import cosine"
   ]
  },
  {
   "cell_type": "code",
   "execution_count": 3,
   "id": "26631098",
   "metadata": {},
   "outputs": [
    {
     "data": {
      "application/vnd.jupyter.widget-view+json": {
       "model_id": "b35dbd1e13a44f51981d9ba9641fa141",
       "version_major": 2,
       "version_minor": 0
      },
      "text/plain": [
       "Downloading (…)a8e1d/.gitattributes:   0%|          | 0.00/1.18k [00:00<?, ?B/s]"
      ]
     },
     "metadata": {},
     "output_type": "display_data"
    },
    {
     "data": {
      "application/vnd.jupyter.widget-view+json": {
       "model_id": "2261c21571c9477da9d4212d6ff9bf79",
       "version_major": 2,
       "version_minor": 0
      },
      "text/plain": [
       "Downloading (…)_Pooling/config.json:   0%|          | 0.00/190 [00:00<?, ?B/s]"
      ]
     },
     "metadata": {},
     "output_type": "display_data"
    },
    {
     "data": {
      "application/vnd.jupyter.widget-view+json": {
       "model_id": "8f9d909cbdc04ffdaaaf110241617b01",
       "version_major": 2,
       "version_minor": 0
      },
      "text/plain": [
       "Downloading (…)b20bca8e1d/README.md:   0%|          | 0.00/10.6k [00:00<?, ?B/s]"
      ]
     },
     "metadata": {},
     "output_type": "display_data"
    },
    {
     "data": {
      "application/vnd.jupyter.widget-view+json": {
       "model_id": "1abf99bc4ba04bd6a160f5341d103bfe",
       "version_major": 2,
       "version_minor": 0
      },
      "text/plain": [
       "Downloading (…)0bca8e1d/config.json:   0%|          | 0.00/571 [00:00<?, ?B/s]"
      ]
     },
     "metadata": {},
     "output_type": "display_data"
    },
    {
     "data": {
      "application/vnd.jupyter.widget-view+json": {
       "model_id": "52f3d2747ae04658bcaa9f47b04408db",
       "version_major": 2,
       "version_minor": 0
      },
      "text/plain": [
       "Downloading (…)ce_transformers.json:   0%|          | 0.00/116 [00:00<?, ?B/s]"
      ]
     },
     "metadata": {},
     "output_type": "display_data"
    },
    {
     "data": {
      "application/vnd.jupyter.widget-view+json": {
       "model_id": "e7dab13b802d42b6867013c5167713ab",
       "version_major": 2,
       "version_minor": 0
      },
      "text/plain": [
       "Downloading (…)e1d/data_config.json:   0%|          | 0.00/39.3k [00:00<?, ?B/s]"
      ]
     },
     "metadata": {},
     "output_type": "display_data"
    },
    {
     "data": {
      "application/vnd.jupyter.widget-view+json": {
       "model_id": "c3bf373ba2f24ca29ea6fb5b74d5169a",
       "version_major": 2,
       "version_minor": 0
      },
      "text/plain": [
       "Downloading pytorch_model.bin:   0%|          | 0.00/438M [00:00<?, ?B/s]"
      ]
     },
     "metadata": {},
     "output_type": "display_data"
    },
    {
     "data": {
      "application/vnd.jupyter.widget-view+json": {
       "model_id": "d605baec89274e69a38ac78bcf2d6a10",
       "version_major": 2,
       "version_minor": 0
      },
      "text/plain": [
       "Downloading (…)nce_bert_config.json:   0%|          | 0.00/53.0 [00:00<?, ?B/s]"
      ]
     },
     "metadata": {},
     "output_type": "display_data"
    },
    {
     "data": {
      "application/vnd.jupyter.widget-view+json": {
       "model_id": "d86eb214bf5244e19923def629308f27",
       "version_major": 2,
       "version_minor": 0
      },
      "text/plain": [
       "Downloading (…)cial_tokens_map.json:   0%|          | 0.00/239 [00:00<?, ?B/s]"
      ]
     },
     "metadata": {},
     "output_type": "display_data"
    },
    {
     "data": {
      "application/vnd.jupyter.widget-view+json": {
       "model_id": "e73015d41c7c48108ba4f763f0fcea29",
       "version_major": 2,
       "version_minor": 0
      },
      "text/plain": [
       "Downloading (…)a8e1d/tokenizer.json:   0%|          | 0.00/466k [00:00<?, ?B/s]"
      ]
     },
     "metadata": {},
     "output_type": "display_data"
    },
    {
     "data": {
      "application/vnd.jupyter.widget-view+json": {
       "model_id": "6af043bc7777446a8a6a59121380bd28",
       "version_major": 2,
       "version_minor": 0
      },
      "text/plain": [
       "Downloading (…)okenizer_config.json:   0%|          | 0.00/363 [00:00<?, ?B/s]"
      ]
     },
     "metadata": {},
     "output_type": "display_data"
    },
    {
     "data": {
      "application/vnd.jupyter.widget-view+json": {
       "model_id": "9825c61c36c948f8a02a57923138cceb",
       "version_major": 2,
       "version_minor": 0
      },
      "text/plain": [
       "Downloading (…)8e1d/train_script.py:   0%|          | 0.00/13.1k [00:00<?, ?B/s]"
      ]
     },
     "metadata": {},
     "output_type": "display_data"
    },
    {
     "data": {
      "application/vnd.jupyter.widget-view+json": {
       "model_id": "db4fb791ea8d4ba9be3a1d27226cd0e6",
       "version_major": 2,
       "version_minor": 0
      },
      "text/plain": [
       "Downloading (…)b20bca8e1d/vocab.txt:   0%|          | 0.00/232k [00:00<?, ?B/s]"
      ]
     },
     "metadata": {},
     "output_type": "display_data"
    },
    {
     "data": {
      "application/vnd.jupyter.widget-view+json": {
       "model_id": "c46b6c7fbdfd43c2a37b28fa770720b2",
       "version_major": 2,
       "version_minor": 0
      },
      "text/plain": [
       "Downloading (…)bca8e1d/modules.json:   0%|          | 0.00/349 [00:00<?, ?B/s]"
      ]
     },
     "metadata": {},
     "output_type": "display_data"
    }
   ],
   "source": [
    "sentence_transformer = SentenceTransformer('all-mpnet-base-v2')"
   ]
  },
  {
   "cell_type": "markdown",
   "id": "d6576706",
   "metadata": {},
   "source": [
    "## Reading main data"
   ]
  },
  {
   "cell_type": "code",
   "execution_count": 160,
   "id": "89d9b238",
   "metadata": {},
   "outputs": [],
   "source": [
    "df_main = pd.read_csv('../data/movies_metadata.csv',error_bad_lines=False)"
   ]
  },
  {
   "cell_type": "code",
   "execution_count": 161,
   "id": "adea9553",
   "metadata": {},
   "outputs": [
    {
     "data": {
      "text/plain": [
       "adult                        0\n",
       "belongs_to_collection    40972\n",
       "budget                       0\n",
       "genres                       0\n",
       "homepage                 37684\n",
       "id                           0\n",
       "imdb_id                     17\n",
       "original_language           11\n",
       "original_title               0\n",
       "overview                   954\n",
       "popularity                   5\n",
       "poster_path                386\n",
       "production_companies         3\n",
       "production_countries         3\n",
       "release_date                87\n",
       "revenue                      6\n",
       "runtime                    263\n",
       "spoken_languages             6\n",
       "status                      87\n",
       "tagline                  25049\n",
       "title                       10\n",
       "video                        6\n",
       "vote_average                 6\n",
       "vote_count                   6\n",
       "Unnamed: 24              45466\n",
       "Unnamed: 25              45465\n",
       "Unnamed: 26              45465\n",
       "Unnamed: 27              45465\n",
       "Unnamed: 28              45465\n",
       "dtype: int64"
      ]
     },
     "execution_count": 161,
     "metadata": {},
     "output_type": "execute_result"
    }
   ],
   "source": [
    "df_main.isnull().sum()"
   ]
  },
  {
   "cell_type": "code",
   "execution_count": 162,
   "id": "adc5846d",
   "metadata": {},
   "outputs": [
    {
     "name": "stdout",
     "output_type": "stream",
     "text": [
      "No of records in the dataset are 45466\n",
      "Unique movies in the dataset are 45436\n"
     ]
    }
   ],
   "source": [
    "print(f'No of records in the dataset are {df_main.shape[0]}')\n",
    "print(f'Unique movies in the dataset are {df_main.id.nunique()}')"
   ]
  },
  {
   "cell_type": "code",
   "execution_count": 163,
   "id": "8ca3d560",
   "metadata": {},
   "outputs": [
    {
     "name": "stdout",
     "output_type": "stream",
     "text": [
      "No of records and unique movies are (45436, 45436)\n"
     ]
    }
   ],
   "source": [
    "# taking only unique movies and removing the unnamed columns\n",
    "\n",
    "df_main = df_main.drop_duplicates(subset=['id'])\n",
    "df_main.drop(['Unnamed: 24', 'Unnamed: 25', 'Unnamed: 26', 'Unnamed: 27', 'Unnamed: 28'],axis=1,inplace=True)\n",
    "\n",
    "print(f'No of records and unique movies are {df_main.shape[0], df_main.id.nunique()}')"
   ]
  },
  {
   "cell_type": "code",
   "execution_count": 164,
   "id": "d3177bea",
   "metadata": {},
   "outputs": [
    {
     "name": "stdout",
     "output_type": "stream",
     "text": [
      "3\n"
     ]
    },
    {
     "data": {
      "text/plain": [
       "(45433, 24)"
      ]
     },
     "execution_count": 164,
     "metadata": {},
     "output_type": "execute_result"
    }
   ],
   "source": [
    "## remove bad ids (some dates were present in the ids)\n",
    "\n",
    "df_main['id'] = df_main['id'].astype(str).apply(lambda x:-999 if '-' in x else x).astype(int)\n",
    "\n",
    "print(df_main['id'].value_counts().to_dict()[-999])\n",
    "\n",
    "\n",
    "df_main = df_main[df_main['id']!=-999].reset_index(drop=True)\n",
    "\n",
    "df_main.shape"
   ]
  },
  {
   "cell_type": "markdown",
   "id": "3b1d70f3",
   "metadata": {},
   "source": [
    "## Reading metadata about movies"
   ]
  },
  {
   "cell_type": "code",
   "execution_count": 165,
   "id": "6f9322ed",
   "metadata": {},
   "outputs": [
    {
     "name": "stdout",
     "output_type": "stream",
     "text": [
      "(45476, 3) (46419, 2) (26024289, 4)\n"
     ]
    }
   ],
   "source": [
    "credits = pd.read_csv('../data/credits.csv')\n",
    "keywords = pd.read_csv('../data/keywords.csv')\n",
    "ratings = pd.read_csv('../data/ratings.csv')\n",
    "\n",
    "print(credits.shape,keywords.shape,ratings.shape)"
   ]
  },
  {
   "cell_type": "code",
   "execution_count": 166,
   "id": "48e55459",
   "metadata": {},
   "outputs": [],
   "source": [
    "# Ratings dataframe contains multiple user reviews for every movie, so aggregating them into a dictionary\n",
    "\n",
    "movie_agg_rating = ratings.groupby('movieId')['rating'].median().to_dict()"
   ]
  },
  {
   "cell_type": "code",
   "execution_count": 167,
   "id": "c13adc9b",
   "metadata": {},
   "outputs": [
    {
     "name": "stdout",
     "output_type": "stream",
     "text": [
      "(45433, 24)\n",
      "(46497, 27)\n"
     ]
    }
   ],
   "source": [
    "# combining all information into a single dataframe\n",
    "\n",
    "print(df_main.shape)\n",
    "\n",
    "df_total = pd.merge(df_main,credits,how='left',on='id')\n",
    "df_total = pd.merge(df_total,keywords,how='left',on='id')\n",
    "\n",
    "print(df_total.shape)"
   ]
  },
  {
   "cell_type": "code",
   "execution_count": 169,
   "id": "1bc9a10d",
   "metadata": {},
   "outputs": [
    {
     "name": "stdout",
     "output_type": "stream",
     "text": [
      "45433 45433\n"
     ]
    }
   ],
   "source": [
    "df_total = df_total.drop_duplicates(subset=['id'])\n",
    "print(df_total.shape[0],df_total['id'].nunique())"
   ]
  },
  {
   "cell_type": "code",
   "execution_count": 187,
   "id": "78113df6",
   "metadata": {},
   "outputs": [
    {
     "data": {
      "text/plain": [
       "adult                        0\n",
       "belongs_to_collection    40945\n",
       "budget                       0\n",
       "genres                       0\n",
       "homepage                 37659\n",
       "id                           0\n",
       "imdb_id                     17\n",
       "original_language           11\n",
       "original_title               0\n",
       "overview                     0\n",
       "popularity                   3\n",
       "poster_path                386\n",
       "production_companies         3\n",
       "production_countries         3\n",
       "release_date                87\n",
       "revenue                      3\n",
       "runtime                    260\n",
       "spoken_languages             3\n",
       "status                      84\n",
       "tagline                  25027\n",
       "title                        7\n",
       "video                        3\n",
       "vote_average                 3\n",
       "vote_count                   3\n",
       "cast                         0\n",
       "crew                         0\n",
       "keywords                     0\n",
       "cast_members                 0\n",
       "creative_members             0\n",
       "agg_movie_rating         37868\n",
       "plot_keywords                0\n",
       "dtype: int64"
      ]
     },
     "execution_count": 187,
     "metadata": {},
     "output_type": "execute_result"
    }
   ],
   "source": [
    "df_total['cast'].fillna('[]',inplace=True)\n",
    "df_total['crew'].fillna('[]',inplace=True)\n",
    "df_total['keywords'].fillna('[]',inplace=True)\n",
    "df_total['overview'].fillna('',inplace=True)\n",
    "\n",
    "df_total.isnull().sum()"
   ]
  },
  {
   "cell_type": "markdown",
   "id": "0662a0c4",
   "metadata": {},
   "source": [
    "## Feature Engineering"
   ]
  },
  {
   "cell_type": "code",
   "execution_count": 171,
   "id": "f72f3c82",
   "metadata": {},
   "outputs": [],
   "source": [
    "# getting the cast and creative team information from the credits dataframe\n",
    "\n",
    "def return_film_cast(cast_json):\n",
    "    cast_json = ast.literal_eval(cast_json)\n",
    "    cast_members = []\n",
    "    for json in cast_json:\n",
    "        if 'name' in json.keys():\n",
    "            cast_members.append(json['name'])\n",
    "    return cast_members\n",
    "\n",
    "def return_film_creative_team(crew_json):\n",
    "    crew_json = ast.literal_eval(crew_json)\n",
    "    creative_filters = ['Directing','Writing','Editing']\n",
    "    creative_members = []\n",
    "    for json in crew_json:\n",
    "        if 'department' in json.keys():\n",
    "            dept = json['department']\n",
    "            if dept in creative_filters:\n",
    "                if 'name' in json.keys():\n",
    "                    creative_members.append(json['name'])\n",
    "    return creative_members"
   ]
  },
  {
   "cell_type": "code",
   "execution_count": 172,
   "id": "2028ca5a",
   "metadata": {},
   "outputs": [],
   "source": [
    "df_total['cast_members'] = df_total['cast'].apply(return_film_cast)\n",
    "df_total['creative_members'] = df_total['crew'].apply(return_film_creative_team)\n",
    "df_total['agg_movie_rating'] = df_total['id'].map(movie_agg_rating)"
   ]
  },
  {
   "cell_type": "code",
   "execution_count": 173,
   "id": "c5cdf4ea",
   "metadata": {},
   "outputs": [],
   "source": [
    "# get all plot keywords for the movie\n",
    "def return_film_plot_keywords(plot_json):\n",
    "    plot_json = ast.literal_eval(plot_json)\n",
    "    plot_keywords = []\n",
    "    for json in plot_json:\n",
    "        if 'name' in json.keys():\n",
    "            plot_keywords.append(json['name'])\n",
    "    \n",
    "    return plot_keywords\n",
    "\n",
    "df_total['plot_keywords'] = df_total['keywords'].apply(return_film_plot_keywords)"
   ]
  },
  {
   "cell_type": "code",
   "execution_count": 3,
   "id": "a2c2b20c",
   "metadata": {},
   "outputs": [],
   "source": [
    "# Getting sentence embeddings from sentence transformers\n",
    "\n",
    "def return_preprocessed_text(text):\n",
    "    text = text.lower()\n",
    "    text = re.sub(\"[^a-z0-9]\",\" \",text)\n",
    "    text = re.sub(\"(\\s)+\",\" \",text)\n",
    "    text = text.strip()\n",
    "    return text\n",
    "\n",
    "\n",
    "def return_sentence_embeddings(text):\n",
    "    vector = sentence_transformer.encode(text)\n",
    "    return vector\n",
    "\n",
    "df_total['overview_cleaned'] = df_total['overview'].apply(return_preprocessed_text)\n",
    "df_total['overview_embeddings'] = df_total['overview_cleaned'].apply(return_sentence_embeddings)\n",
    "df_total.head()"
   ]
  },
  {
   "cell_type": "code",
   "execution_count": 192,
   "id": "6bf7ba28",
   "metadata": {},
   "outputs": [
    {
     "data": {
      "text/plain": [
       "Index(['adult', 'belongs_to_collection', 'budget', 'genres', 'homepage', 'id',\n",
       "       'imdb_id', 'original_language', 'original_title', 'overview',\n",
       "       'popularity', 'poster_path', 'production_companies',\n",
       "       'production_countries', 'release_date', 'revenue', 'runtime',\n",
       "       'spoken_languages', 'status', 'tagline', 'title', 'video',\n",
       "       'vote_average', 'vote_count', 'cast', 'crew', 'keywords',\n",
       "       'cast_members', 'creative_members', 'agg_movie_rating', 'plot_keywords',\n",
       "       'overview_cleaned', 'overview_embeddings'],\n",
       "      dtype='object')"
      ]
     },
     "execution_count": 192,
     "metadata": {},
     "output_type": "execute_result"
    }
   ],
   "source": [
    "df_total.columns"
   ]
  },
  {
   "cell_type": "markdown",
   "id": "9185c48b",
   "metadata": {},
   "source": [
    "## Continue"
   ]
  },
  {
   "cell_type": "code",
   "execution_count": 4,
   "id": "2b99dfc9",
   "metadata": {},
   "outputs": [
    {
     "data": {
      "text/html": [
       "<div>\n",
       "<style scoped>\n",
       "    .dataframe tbody tr th:only-of-type {\n",
       "        vertical-align: middle;\n",
       "    }\n",
       "\n",
       "    .dataframe tbody tr th {\n",
       "        vertical-align: top;\n",
       "    }\n",
       "\n",
       "    .dataframe thead th {\n",
       "        text-align: right;\n",
       "    }\n",
       "</style>\n",
       "<table border=\"1\" class=\"dataframe\">\n",
       "  <thead>\n",
       "    <tr style=\"text-align: right;\">\n",
       "      <th></th>\n",
       "      <th>adult</th>\n",
       "      <th>belongs_to_collection</th>\n",
       "      <th>budget</th>\n",
       "      <th>genres</th>\n",
       "      <th>homepage</th>\n",
       "      <th>id</th>\n",
       "      <th>imdb_id</th>\n",
       "      <th>original_language</th>\n",
       "      <th>original_title</th>\n",
       "      <th>overview</th>\n",
       "      <th>...</th>\n",
       "      <th>vote_count</th>\n",
       "      <th>cast</th>\n",
       "      <th>crew</th>\n",
       "      <th>keywords</th>\n",
       "      <th>cast_members</th>\n",
       "      <th>creative_members</th>\n",
       "      <th>agg_movie_rating</th>\n",
       "      <th>plot_keywords</th>\n",
       "      <th>overview_cleaned</th>\n",
       "      <th>overview_embeddings</th>\n",
       "    </tr>\n",
       "  </thead>\n",
       "  <tbody>\n",
       "    <tr>\n",
       "      <th>0</th>\n",
       "      <td>FALSE</td>\n",
       "      <td>{'id': 10194, 'name': 'Toy Story Collection', ...</td>\n",
       "      <td>30000000</td>\n",
       "      <td>[{'id': 16, 'name': 'Animation'}, {'id': 35, '...</td>\n",
       "      <td>http://toystory.disney.com/toy-story</td>\n",
       "      <td>862</td>\n",
       "      <td>tt0114709</td>\n",
       "      <td>en</td>\n",
       "      <td>Toy Story</td>\n",
       "      <td>Led by Woody, Andy's toys live happily in his ...</td>\n",
       "      <td>...</td>\n",
       "      <td>5415</td>\n",
       "      <td>[{'cast_id': 14, 'character': 'Woody (voice)',...</td>\n",
       "      <td>[{'credit_id': '52fe4284c3a36847f8024f49', 'de...</td>\n",
       "      <td>[{'id': 931, 'name': 'jealousy'}, {'id': 4290,...</td>\n",
       "      <td>[Tom Hanks, Tim Allen, Don Rickles, Jim Varney...</td>\n",
       "      <td>[John Lasseter, Joss Whedon, Andrew Stanton, J...</td>\n",
       "      <td>4.0</td>\n",
       "      <td>[jealousy, toy, boy, friendship, friends, riva...</td>\n",
       "      <td>led by woody andy s toys live happily in his r...</td>\n",
       "      <td>[0.044583935, 0.047805555, -0.0029498255, -0.0...</td>\n",
       "    </tr>\n",
       "    <tr>\n",
       "      <th>1</th>\n",
       "      <td>FALSE</td>\n",
       "      <td>NaN</td>\n",
       "      <td>65000000</td>\n",
       "      <td>[{'id': 12, 'name': 'Adventure'}, {'id': 14, '...</td>\n",
       "      <td>NaN</td>\n",
       "      <td>8844</td>\n",
       "      <td>tt0113497</td>\n",
       "      <td>en</td>\n",
       "      <td>Jumanji</td>\n",
       "      <td>When siblings Judy and Peter discover an encha...</td>\n",
       "      <td>...</td>\n",
       "      <td>2413</td>\n",
       "      <td>[{'cast_id': 1, 'character': 'Alan Parrish', '...</td>\n",
       "      <td>[{'credit_id': '52fe44bfc3a36847f80a7cd1', 'de...</td>\n",
       "      <td>[{'id': 10090, 'name': 'board game'}, {'id': 1...</td>\n",
       "      <td>[Robin Williams, Jonathan Hyde, Kirsten Dunst,...</td>\n",
       "      <td>[Jonathan Hensleigh, Joe Johnston, Robert Dalv...</td>\n",
       "      <td>4.0</td>\n",
       "      <td>[board game, disappearance, based on children'...</td>\n",
       "      <td>when siblings judy and peter discover an encha...</td>\n",
       "      <td>[0.044435084, -0.021271866, -0.041723467, 0.04...</td>\n",
       "    </tr>\n",
       "    <tr>\n",
       "      <th>2</th>\n",
       "      <td>FALSE</td>\n",
       "      <td>{'id': 119050, 'name': 'Grumpy Old Men Collect...</td>\n",
       "      <td>0</td>\n",
       "      <td>[{'id': 10749, 'name': 'Romance'}, {'id': 35, ...</td>\n",
       "      <td>NaN</td>\n",
       "      <td>15602</td>\n",
       "      <td>tt0113228</td>\n",
       "      <td>en</td>\n",
       "      <td>Grumpier Old Men</td>\n",
       "      <td>A family wedding reignites the ancient feud be...</td>\n",
       "      <td>...</td>\n",
       "      <td>92</td>\n",
       "      <td>[{'cast_id': 2, 'character': 'Max Goldman', 'c...</td>\n",
       "      <td>[{'credit_id': '52fe466a9251416c75077a89', 'de...</td>\n",
       "      <td>[{'id': 1495, 'name': 'fishing'}, {'id': 12392...</td>\n",
       "      <td>[Walter Matthau, Jack Lemmon, Ann-Margret, Sop...</td>\n",
       "      <td>[Howard Deutch, Mark Steven Johnson, Mark Stev...</td>\n",
       "      <td>NaN</td>\n",
       "      <td>[fishing, best friend, duringcreditsstinger, o...</td>\n",
       "      <td>a family wedding reignites the ancient feud be...</td>\n",
       "      <td>[-0.02628604, 0.02050111, -0.008671549, 0.0072...</td>\n",
       "    </tr>\n",
       "    <tr>\n",
       "      <th>3</th>\n",
       "      <td>FALSE</td>\n",
       "      <td>NaN</td>\n",
       "      <td>16000000</td>\n",
       "      <td>[{'id': 35, 'name': 'Comedy'}, {'id': 18, 'nam...</td>\n",
       "      <td>NaN</td>\n",
       "      <td>31357</td>\n",
       "      <td>tt0114885</td>\n",
       "      <td>en</td>\n",
       "      <td>Waiting to Exhale</td>\n",
       "      <td>Cheated on, mistreated and stepped on, the wom...</td>\n",
       "      <td>...</td>\n",
       "      <td>34</td>\n",
       "      <td>[{'cast_id': 1, 'character': \"Savannah 'Vannah...</td>\n",
       "      <td>[{'credit_id': '52fe44779251416c91011acb', 'de...</td>\n",
       "      <td>[{'id': 818, 'name': 'based on novel'}, {'id':...</td>\n",
       "      <td>[Whitney Houston, Angela Bassett, Loretta Devi...</td>\n",
       "      <td>[Forest Whitaker, Ronald Bass, Terry McMillan,...</td>\n",
       "      <td>NaN</td>\n",
       "      <td>[based on novel, interracial relationship, sin...</td>\n",
       "      <td>cheated on mistreated and stepped on the women...</td>\n",
       "      <td>[0.047403567, 0.05893014, -0.008000421, -0.029...</td>\n",
       "    </tr>\n",
       "    <tr>\n",
       "      <th>4</th>\n",
       "      <td>FALSE</td>\n",
       "      <td>{'id': 96871, 'name': 'Father of the Bride Col...</td>\n",
       "      <td>0</td>\n",
       "      <td>[{'id': 35, 'name': 'Comedy'}]</td>\n",
       "      <td>NaN</td>\n",
       "      <td>11862</td>\n",
       "      <td>tt0113041</td>\n",
       "      <td>en</td>\n",
       "      <td>Father of the Bride Part II</td>\n",
       "      <td>Just when George Banks has recovered from his ...</td>\n",
       "      <td>...</td>\n",
       "      <td>173</td>\n",
       "      <td>[{'cast_id': 1, 'character': 'George Banks', '...</td>\n",
       "      <td>[{'credit_id': '52fe44959251416c75039ed7', 'de...</td>\n",
       "      <td>[{'id': 1009, 'name': 'baby'}, {'id': 1599, 'n...</td>\n",
       "      <td>[Steve Martin, Diane Keaton, Martin Short, Kim...</td>\n",
       "      <td>[Nancy Meyers, Albert Hackett, Charles Shyer, ...</td>\n",
       "      <td>NaN</td>\n",
       "      <td>[baby, midlife crisis, confidence, aging, daug...</td>\n",
       "      <td>just when george banks has recovered from his ...</td>\n",
       "      <td>[-0.018180072, -0.017848901, -0.013282082, -0....</td>\n",
       "    </tr>\n",
       "  </tbody>\n",
       "</table>\n",
       "<p>5 rows × 33 columns</p>\n",
       "</div>"
      ],
      "text/plain": [
       "   adult                              belongs_to_collection    budget  \\\n",
       "0  FALSE  {'id': 10194, 'name': 'Toy Story Collection', ...  30000000   \n",
       "1  FALSE                                                NaN  65000000   \n",
       "2  FALSE  {'id': 119050, 'name': 'Grumpy Old Men Collect...         0   \n",
       "3  FALSE                                                NaN  16000000   \n",
       "4  FALSE  {'id': 96871, 'name': 'Father of the Bride Col...         0   \n",
       "\n",
       "                                              genres  \\\n",
       "0  [{'id': 16, 'name': 'Animation'}, {'id': 35, '...   \n",
       "1  [{'id': 12, 'name': 'Adventure'}, {'id': 14, '...   \n",
       "2  [{'id': 10749, 'name': 'Romance'}, {'id': 35, ...   \n",
       "3  [{'id': 35, 'name': 'Comedy'}, {'id': 18, 'nam...   \n",
       "4                     [{'id': 35, 'name': 'Comedy'}]   \n",
       "\n",
       "                               homepage     id    imdb_id original_language  \\\n",
       "0  http://toystory.disney.com/toy-story    862  tt0114709                en   \n",
       "1                                   NaN   8844  tt0113497                en   \n",
       "2                                   NaN  15602  tt0113228                en   \n",
       "3                                   NaN  31357  tt0114885                en   \n",
       "4                                   NaN  11862  tt0113041                en   \n",
       "\n",
       "                original_title  \\\n",
       "0                    Toy Story   \n",
       "1                      Jumanji   \n",
       "2             Grumpier Old Men   \n",
       "3            Waiting to Exhale   \n",
       "4  Father of the Bride Part II   \n",
       "\n",
       "                                            overview  ... vote_count  \\\n",
       "0  Led by Woody, Andy's toys live happily in his ...  ...       5415   \n",
       "1  When siblings Judy and Peter discover an encha...  ...       2413   \n",
       "2  A family wedding reignites the ancient feud be...  ...         92   \n",
       "3  Cheated on, mistreated and stepped on, the wom...  ...         34   \n",
       "4  Just when George Banks has recovered from his ...  ...        173   \n",
       "\n",
       "                                                cast  \\\n",
       "0  [{'cast_id': 14, 'character': 'Woody (voice)',...   \n",
       "1  [{'cast_id': 1, 'character': 'Alan Parrish', '...   \n",
       "2  [{'cast_id': 2, 'character': 'Max Goldman', 'c...   \n",
       "3  [{'cast_id': 1, 'character': \"Savannah 'Vannah...   \n",
       "4  [{'cast_id': 1, 'character': 'George Banks', '...   \n",
       "\n",
       "                                                crew  \\\n",
       "0  [{'credit_id': '52fe4284c3a36847f8024f49', 'de...   \n",
       "1  [{'credit_id': '52fe44bfc3a36847f80a7cd1', 'de...   \n",
       "2  [{'credit_id': '52fe466a9251416c75077a89', 'de...   \n",
       "3  [{'credit_id': '52fe44779251416c91011acb', 'de...   \n",
       "4  [{'credit_id': '52fe44959251416c75039ed7', 'de...   \n",
       "\n",
       "                                            keywords  \\\n",
       "0  [{'id': 931, 'name': 'jealousy'}, {'id': 4290,...   \n",
       "1  [{'id': 10090, 'name': 'board game'}, {'id': 1...   \n",
       "2  [{'id': 1495, 'name': 'fishing'}, {'id': 12392...   \n",
       "3  [{'id': 818, 'name': 'based on novel'}, {'id':...   \n",
       "4  [{'id': 1009, 'name': 'baby'}, {'id': 1599, 'n...   \n",
       "\n",
       "                                        cast_members  \\\n",
       "0  [Tom Hanks, Tim Allen, Don Rickles, Jim Varney...   \n",
       "1  [Robin Williams, Jonathan Hyde, Kirsten Dunst,...   \n",
       "2  [Walter Matthau, Jack Lemmon, Ann-Margret, Sop...   \n",
       "3  [Whitney Houston, Angela Bassett, Loretta Devi...   \n",
       "4  [Steve Martin, Diane Keaton, Martin Short, Kim...   \n",
       "\n",
       "                                    creative_members agg_movie_rating  \\\n",
       "0  [John Lasseter, Joss Whedon, Andrew Stanton, J...              4.0   \n",
       "1  [Jonathan Hensleigh, Joe Johnston, Robert Dalv...              4.0   \n",
       "2  [Howard Deutch, Mark Steven Johnson, Mark Stev...              NaN   \n",
       "3  [Forest Whitaker, Ronald Bass, Terry McMillan,...              NaN   \n",
       "4  [Nancy Meyers, Albert Hackett, Charles Shyer, ...              NaN   \n",
       "\n",
       "                                       plot_keywords  \\\n",
       "0  [jealousy, toy, boy, friendship, friends, riva...   \n",
       "1  [board game, disappearance, based on children'...   \n",
       "2  [fishing, best friend, duringcreditsstinger, o...   \n",
       "3  [based on novel, interracial relationship, sin...   \n",
       "4  [baby, midlife crisis, confidence, aging, daug...   \n",
       "\n",
       "                                    overview_cleaned  \\\n",
       "0  led by woody andy s toys live happily in his r...   \n",
       "1  when siblings judy and peter discover an encha...   \n",
       "2  a family wedding reignites the ancient feud be...   \n",
       "3  cheated on mistreated and stepped on the women...   \n",
       "4  just when george banks has recovered from his ...   \n",
       "\n",
       "                                 overview_embeddings  \n",
       "0  [0.044583935, 0.047805555, -0.0029498255, -0.0...  \n",
       "1  [0.044435084, -0.021271866, -0.041723467, 0.04...  \n",
       "2  [-0.02628604, 0.02050111, -0.008671549, 0.0072...  \n",
       "3  [0.047403567, 0.05893014, -0.008000421, -0.029...  \n",
       "4  [-0.018180072, -0.017848901, -0.013282082, -0....  \n",
       "\n",
       "[5 rows x 33 columns]"
      ]
     },
     "execution_count": 4,
     "metadata": {},
     "output_type": "execute_result"
    }
   ],
   "source": [
    "import joblib\n",
    "\n",
    "# joblib.dump(df_total,open('../data/df_intermediate_features.pkl','wb'))\n",
    "\n",
    "df_total = joblib.load(open('../data/df_intermediate_features.pkl','rb'))\n",
    "df_total.head()"
   ]
  },
  {
   "cell_type": "code",
   "execution_count": 5,
   "id": "e84892d2",
   "metadata": {},
   "outputs": [],
   "source": [
    "def return_preprocessed_text_lists(l_text):\n",
    "    result = []\n",
    "    for text in l_text:\n",
    "        text = text.lower()\n",
    "        text = re.sub(\"[^a-z0-9]\",\" \",text)\n",
    "        text = re.sub(\"(\\s)+\",\" \",text)\n",
    "        text = text.strip()\n",
    "        result.append(text)\n",
    "    \n",
    "    return result\n",
    "\n",
    "def extract_names_from_list(generic_list):\n",
    "    result = []\n",
    "    try:\n",
    "        generic_list = ast.literal_eval(generic_list)\n",
    "        for response in generic_list:\n",
    "            if 'name' in response.keys():\n",
    "                result.append(response['name'])\n",
    "        return result\n",
    "    except:\n",
    "        return result\n",
    "    \n",
    "\n",
    "def extract_released_year(value):\n",
    "    year = 0\n",
    "    try:\n",
    "        datetime = pd.to_datetime(value)\n",
    "        year = datetime.year\n",
    "        return int(year)\n",
    "    except:\n",
    "        return year\n",
    "    \n",
    "def fix_runtime(value):\n",
    "    try:\n",
    "        return int(value)\n",
    "    except:\n",
    "        return -1\n",
    "    \n",
    "def fix_vote_average(value):\n",
    "    try:\n",
    "        return float(value)\n",
    "    except:\n",
    "        return -1"
   ]
  },
  {
   "cell_type": "code",
   "execution_count": 6,
   "id": "0d00c0fc",
   "metadata": {},
   "outputs": [
    {
     "name": "stdout",
     "output_type": "stream",
     "text": [
      "(45433, 34)\n",
      "(45426, 35)\n"
     ]
    }
   ],
   "source": [
    "df_total['cast_members'] = df_total['cast_members'].apply(return_preprocessed_text_lists)\n",
    "df_total['creative_members'] = df_total['creative_members'].apply(return_preprocessed_text_lists)\n",
    "df_total['plot_keywords'] = df_total['plot_keywords'].apply(return_preprocessed_text_lists)\n",
    "\n",
    "df_total['genres'] = df_total['genres'].apply(extract_names_from_list)\n",
    "df_total['genres'] = df_total['genres'].apply(return_preprocessed_text_lists)\n",
    "\n",
    "df_total['production_companies'] = df_total['production_companies'].apply(extract_names_from_list)\n",
    "df_total['production_companies'] = df_total['production_companies'].apply(return_preprocessed_text_lists)\n",
    "\n",
    "df_total['released_year'] = df_total['release_date'].apply(extract_released_year).fillna(-1).astype(int)\n",
    "\n",
    "df_total['runtime'].fillna(-1,inplace=True)\n",
    "df_total['vote_average'].fillna(-1,inplace=True)\n",
    "\n",
    "df_total['runtime'] = df_total['runtime'].apply(fix_runtime).astype(int)\n",
    "df_total['vote_average'] = df_total['vote_average'].apply(fix_vote_average)\n",
    "\n",
    "print(df_total.shape)\n",
    "df_total['title'].fillna('',inplace=True)\n",
    "df_total = df_total[df_total['title'] != ''].reset_index(drop=True)\n",
    "\n",
    "df_total['title_clean'] = df_total['title'].apply(return_preprocessed_text)\n",
    "print(df_total.shape)"
   ]
  },
  {
   "cell_type": "code",
   "execution_count": 7,
   "id": "27861348",
   "metadata": {},
   "outputs": [
    {
     "data": {
      "text/plain": [
       "Index(['adult', 'belongs_to_collection', 'budget', 'genres', 'homepage', 'id',\n",
       "       'imdb_id', 'original_language', 'original_title', 'overview',\n",
       "       'popularity', 'poster_path', 'production_companies',\n",
       "       'production_countries', 'release_date', 'revenue', 'runtime',\n",
       "       'spoken_languages', 'status', 'tagline', 'title', 'video',\n",
       "       'vote_average', 'vote_count', 'cast', 'crew', 'keywords',\n",
       "       'cast_members', 'creative_members', 'agg_movie_rating', 'plot_keywords',\n",
       "       'overview_cleaned', 'overview_embeddings', 'released_year',\n",
       "       'title_clean'],\n",
       "      dtype='object')"
      ]
     },
     "execution_count": 7,
     "metadata": {},
     "output_type": "execute_result"
    }
   ],
   "source": [
    "df_total.columns"
   ]
  },
  {
   "cell_type": "code",
   "execution_count": 8,
   "id": "336830c8",
   "metadata": {},
   "outputs": [
    {
     "data": {
      "text/html": [
       "<div>\n",
       "<style scoped>\n",
       "    .dataframe tbody tr th:only-of-type {\n",
       "        vertical-align: middle;\n",
       "    }\n",
       "\n",
       "    .dataframe tbody tr th {\n",
       "        vertical-align: top;\n",
       "    }\n",
       "\n",
       "    .dataframe thead th {\n",
       "        text-align: right;\n",
       "    }\n",
       "</style>\n",
       "<table border=\"1\" class=\"dataframe\">\n",
       "  <thead>\n",
       "    <tr style=\"text-align: right;\">\n",
       "      <th></th>\n",
       "      <th>title</th>\n",
       "      <th>title_clean</th>\n",
       "      <th>adult</th>\n",
       "      <th>genres</th>\n",
       "      <th>production_companies</th>\n",
       "      <th>released_year</th>\n",
       "      <th>runtime</th>\n",
       "      <th>vote_average</th>\n",
       "      <th>cast_members</th>\n",
       "      <th>creative_members</th>\n",
       "      <th>plot_keywords</th>\n",
       "      <th>overview_embeddings</th>\n",
       "    </tr>\n",
       "  </thead>\n",
       "  <tbody>\n",
       "    <tr>\n",
       "      <th>0</th>\n",
       "      <td>Toy Story</td>\n",
       "      <td>toy story</td>\n",
       "      <td>FALSE</td>\n",
       "      <td>[animation, comedy, family]</td>\n",
       "      <td>[pixar animation studios]</td>\n",
       "      <td>1995</td>\n",
       "      <td>81</td>\n",
       "      <td>7.7</td>\n",
       "      <td>[tom hanks, tim allen, don rickles, jim varney...</td>\n",
       "      <td>[john lasseter, joss whedon, andrew stanton, j...</td>\n",
       "      <td>[jealousy, toy, boy, friendship, friends, riva...</td>\n",
       "      <td>[0.044583935, 0.047805555, -0.0029498255, -0.0...</td>\n",
       "    </tr>\n",
       "    <tr>\n",
       "      <th>1</th>\n",
       "      <td>Jumanji</td>\n",
       "      <td>jumanji</td>\n",
       "      <td>FALSE</td>\n",
       "      <td>[adventure, fantasy, family]</td>\n",
       "      <td>[tristar pictures, teitler film, interscope co...</td>\n",
       "      <td>1995</td>\n",
       "      <td>104</td>\n",
       "      <td>6.9</td>\n",
       "      <td>[robin williams, jonathan hyde, kirsten dunst,...</td>\n",
       "      <td>[jonathan hensleigh, joe johnston, robert dalv...</td>\n",
       "      <td>[board game, disappearance, based on children ...</td>\n",
       "      <td>[0.044435084, -0.021271866, -0.041723467, 0.04...</td>\n",
       "    </tr>\n",
       "    <tr>\n",
       "      <th>2</th>\n",
       "      <td>Grumpier Old Men</td>\n",
       "      <td>grumpier old men</td>\n",
       "      <td>FALSE</td>\n",
       "      <td>[romance, comedy]</td>\n",
       "      <td>[warner bros, lancaster gate]</td>\n",
       "      <td>1995</td>\n",
       "      <td>101</td>\n",
       "      <td>6.5</td>\n",
       "      <td>[walter matthau, jack lemmon, ann margret, sop...</td>\n",
       "      <td>[howard deutch, mark steven johnson, mark stev...</td>\n",
       "      <td>[fishing, best friend, duringcreditsstinger, o...</td>\n",
       "      <td>[-0.02628604, 0.02050111, -0.008671549, 0.0072...</td>\n",
       "    </tr>\n",
       "    <tr>\n",
       "      <th>3</th>\n",
       "      <td>Waiting to Exhale</td>\n",
       "      <td>waiting to exhale</td>\n",
       "      <td>FALSE</td>\n",
       "      <td>[comedy, drama, romance]</td>\n",
       "      <td>[twentieth century fox film corporation]</td>\n",
       "      <td>1995</td>\n",
       "      <td>127</td>\n",
       "      <td>6.1</td>\n",
       "      <td>[whitney houston, angela bassett, loretta devi...</td>\n",
       "      <td>[forest whitaker, ronald bass, terry mcmillan,...</td>\n",
       "      <td>[based on novel, interracial relationship, sin...</td>\n",
       "      <td>[0.047403567, 0.05893014, -0.008000421, -0.029...</td>\n",
       "    </tr>\n",
       "    <tr>\n",
       "      <th>4</th>\n",
       "      <td>Father of the Bride Part II</td>\n",
       "      <td>father of the bride part ii</td>\n",
       "      <td>FALSE</td>\n",
       "      <td>[comedy]</td>\n",
       "      <td>[sandollar productions, touchstone pictures]</td>\n",
       "      <td>1995</td>\n",
       "      <td>106</td>\n",
       "      <td>5.7</td>\n",
       "      <td>[steve martin, diane keaton, martin short, kim...</td>\n",
       "      <td>[nancy meyers, albert hackett, charles shyer, ...</td>\n",
       "      <td>[baby, midlife crisis, confidence, aging, daug...</td>\n",
       "      <td>[-0.018180072, -0.017848901, -0.013282082, -0....</td>\n",
       "    </tr>\n",
       "  </tbody>\n",
       "</table>\n",
       "</div>"
      ],
      "text/plain": [
       "                         title                  title_clean  adult  \\\n",
       "0                    Toy Story                    toy story  FALSE   \n",
       "1                      Jumanji                      jumanji  FALSE   \n",
       "2             Grumpier Old Men             grumpier old men  FALSE   \n",
       "3            Waiting to Exhale            waiting to exhale  FALSE   \n",
       "4  Father of the Bride Part II  father of the bride part ii  FALSE   \n",
       "\n",
       "                         genres  \\\n",
       "0   [animation, comedy, family]   \n",
       "1  [adventure, fantasy, family]   \n",
       "2             [romance, comedy]   \n",
       "3      [comedy, drama, romance]   \n",
       "4                      [comedy]   \n",
       "\n",
       "                                production_companies  released_year  runtime  \\\n",
       "0                          [pixar animation studios]           1995       81   \n",
       "1  [tristar pictures, teitler film, interscope co...           1995      104   \n",
       "2                      [warner bros, lancaster gate]           1995      101   \n",
       "3           [twentieth century fox film corporation]           1995      127   \n",
       "4       [sandollar productions, touchstone pictures]           1995      106   \n",
       "\n",
       "   vote_average                                       cast_members  \\\n",
       "0           7.7  [tom hanks, tim allen, don rickles, jim varney...   \n",
       "1           6.9  [robin williams, jonathan hyde, kirsten dunst,...   \n",
       "2           6.5  [walter matthau, jack lemmon, ann margret, sop...   \n",
       "3           6.1  [whitney houston, angela bassett, loretta devi...   \n",
       "4           5.7  [steve martin, diane keaton, martin short, kim...   \n",
       "\n",
       "                                    creative_members  \\\n",
       "0  [john lasseter, joss whedon, andrew stanton, j...   \n",
       "1  [jonathan hensleigh, joe johnston, robert dalv...   \n",
       "2  [howard deutch, mark steven johnson, mark stev...   \n",
       "3  [forest whitaker, ronald bass, terry mcmillan,...   \n",
       "4  [nancy meyers, albert hackett, charles shyer, ...   \n",
       "\n",
       "                                       plot_keywords  \\\n",
       "0  [jealousy, toy, boy, friendship, friends, riva...   \n",
       "1  [board game, disappearance, based on children ...   \n",
       "2  [fishing, best friend, duringcreditsstinger, o...   \n",
       "3  [based on novel, interracial relationship, sin...   \n",
       "4  [baby, midlife crisis, confidence, aging, daug...   \n",
       "\n",
       "                                 overview_embeddings  \n",
       "0  [0.044583935, 0.047805555, -0.0029498255, -0.0...  \n",
       "1  [0.044435084, -0.021271866, -0.041723467, 0.04...  \n",
       "2  [-0.02628604, 0.02050111, -0.008671549, 0.0072...  \n",
       "3  [0.047403567, 0.05893014, -0.008000421, -0.029...  \n",
       "4  [-0.018180072, -0.017848901, -0.013282082, -0....  "
      ]
     },
     "execution_count": 8,
     "metadata": {},
     "output_type": "execute_result"
    }
   ],
   "source": [
    "df_total[['title','title_clean','adult','genres','production_companies','released_year','runtime','vote_average','cast_members','creative_members','plot_keywords','overview_embeddings']].head()"
   ]
  },
  {
   "cell_type": "code",
   "execution_count": 9,
   "id": "126846e3",
   "metadata": {},
   "outputs": [
    {
     "data": {
      "text/plain": [
       "title                   0\n",
       "title_clean             0\n",
       "adult                   0\n",
       "genres                  0\n",
       "production_companies    0\n",
       "released_year           0\n",
       "runtime                 0\n",
       "vote_average            0\n",
       "cast_members            0\n",
       "creative_members        0\n",
       "plot_keywords           0\n",
       "overview_embeddings     0\n",
       "dtype: int64"
      ]
     },
     "execution_count": 9,
     "metadata": {},
     "output_type": "execute_result"
    }
   ],
   "source": [
    "df_total[['title','title_clean','adult','genres','production_companies','released_year','runtime','vote_average','cast_members','creative_members','plot_keywords','overview_embeddings']].isnull().sum()"
   ]
  },
  {
   "cell_type": "code",
   "execution_count": 10,
   "id": "bfb41db2",
   "metadata": {},
   "outputs": [
    {
     "data": {
      "text/plain": [
       "(45426, 12)"
      ]
     },
     "execution_count": 10,
     "metadata": {},
     "output_type": "execute_result"
    }
   ],
   "source": [
    "df_features = df_total[['title','title_clean','adult','genres','production_companies','released_year','runtime','vote_average','cast_members','creative_members','plot_keywords','overview_embeddings']]\n",
    "df_features.shape"
   ]
  },
  {
   "cell_type": "code",
   "execution_count": 11,
   "id": "c838e569",
   "metadata": {},
   "outputs": [],
   "source": [
    "def compute_jaccard_similarity(list1, list2):\n",
    "    if isinstance(list1,str):\n",
    "        list1 = list1.split(' ')\n",
    "    if isinstance(list2,str):\n",
    "        list2 = list2.split(' ')\n",
    "        \n",
    "    intersection = np.intersect1d(list1,list2)\n",
    "    union = np.union1d(list1, list2)\n",
    "    try:\n",
    "        score = len(intersection)/len(union)\n",
    "        return score*100\n",
    "    except:\n",
    "        return 0\n",
    "\n",
    "def compute_film_rating_similarity(rating1,rating2):\n",
    "    if rating1 == rating2:\n",
    "        return 100\n",
    "    else:\n",
    "        return 0\n",
    "    \n",
    "\n",
    "def compute_closeness_score(value1,value2):\n",
    "    if value1 == -1 or value2 == -1:\n",
    "        return 0\n",
    "    \n",
    "    try:\n",
    "        ratio = value1/value2 if value1 < value2 else value2/value1\n",
    "        return ratio*100\n",
    "        \n",
    "    except:\n",
    "        return 100\n",
    "\n",
    "\n",
    "def return_normalized_values(series):\n",
    "    minimum = series.min()\n",
    "    maximum = series.max()\n",
    "    diff = maximum - minimum\n",
    "    new_series = series.apply(lambda x:((x-minimum)*100)/diff)\n",
    "    return new_series\n"
   ]
  },
  {
   "cell_type": "markdown",
   "id": "802911ab",
   "metadata": {},
   "source": [
    "**Features**\n",
    "1. Film Rating - Same or not\n",
    "2. Genres - Jaccard Score\n",
    "3. Production Companies - Jaccard Score\n",
    "4. Release Date - Closer date high score\n",
    "5. Runtime - Close runtime high score\n",
    "6. Vote Average - Close avg high score\n",
    "7. Cast Members - Jaccard Score\n",
    "8. Creative Members - Jaccard Score\n",
    "9. Movie Plot keywords - Jaccard Score\n",
    "10. Overview Embeddings - Cosine Similarity\n",
    "11. Title - Jaccard Score\n",
    "\n",
    "**Next steps**<br>\n",
    "Write the code and test it on a sample data. Run the pipeline on the whole dataset after successful run on the sample.'\n",
    "\n",
    "**Checks**<br>\n",
    "Ensure to check for missing values in the certain columns like runtime, vote average and released year"
   ]
  },
  {
   "cell_type": "code",
   "execution_count": 23,
   "id": "95623a7a",
   "metadata": {},
   "outputs": [
    {
     "name": "stdout",
     "output_type": "stream",
     "text": [
      "Total shape is (45426, 12)\n",
      "Total shape after taking movies post 2012 (7904, 12)\n"
     ]
    }
   ],
   "source": [
    "# sample = df_features.loc[:50]\n",
    "# sample.shape\n",
    "\n",
    "print(f'Total shape is {df_features.shape}')\n",
    "df_features_2013 = df_features[df_features['released_year'] > 2012].reset_index(drop=True)\n",
    "print(f'Total shape after taking movies post 2012 {df_features_2013.shape}')"
   ]
  },
  {
   "cell_type": "code",
   "execution_count": 24,
   "id": "b653a28a",
   "metadata": {},
   "outputs": [],
   "source": [
    "from tqdm import tqdm"
   ]
  },
  {
   "cell_type": "code",
   "execution_count": null,
   "id": "0155ff5e",
   "metadata": {},
   "outputs": [
    {
     "name": "stderr",
     "output_type": "stream",
     "text": [
      "2519it [2:17:53,  2.60s/it]"
     ]
    }
   ],
   "source": [
    "movies_to_movies_score_mapper = {}\n",
    "recommendatation_model = {}\n",
    "\n",
    "def initialize_dictionary(movie1,movie2,title_score,genre_score,production_companies_score,\n",
    "                          cast_score,creative_score,plot_keyword_score,film_rating_score,\n",
    "                          released_year_score,runtime_score,vote_avg_score,plot_similarity_score,final_score):\n",
    "    \n",
    "    if movie1 not in movies_to_movies_score_mapper.keys():\n",
    "        movies_to_movies_score_mapper[movie1] = {}\n",
    "    \n",
    "    if movie2 not in movies_to_movies_score_mapper[movie1].keys():\n",
    "        movies_to_movies_score_mapper[movie1][movie2] = {}\n",
    "    \n",
    "    movies_to_movies_score_mapper[movie1][movie2]['title_score'] = title_score\n",
    "    movies_to_movies_score_mapper[movie1][movie2]['genre_score'] = genre_score\n",
    "    movies_to_movies_score_mapper[movie1][movie2]['production_companies_score'] = production_companies_score\n",
    "    movies_to_movies_score_mapper[movie1][movie2]['cast_score'] = cast_score\n",
    "    movies_to_movies_score_mapper[movie1][movie2]['creative_score'] = creative_score\n",
    "    movies_to_movies_score_mapper[movie1][movie2]['plot_keyword_score'] = plot_keyword_score\n",
    "    movies_to_movies_score_mapper[movie1][movie2]['film_rating_score'] = film_rating_score\n",
    "    movies_to_movies_score_mapper[movie1][movie2]['released_year_score'] = released_year_score\n",
    "    movies_to_movies_score_mapper[movie1][movie2]['runtime_score'] = runtime_score\n",
    "    movies_to_movies_score_mapper[movie1][movie2]['vote_avg_score'] = vote_avg_score\n",
    "    movies_to_movies_score_mapper[movie1][movie2]['plot_similarity_score'] = plot_similarity_score\n",
    "    movies_to_movies_score_mapper[movie1][movie2]['final_score'] = final_score\n",
    "    \n",
    "\n",
    "for index,row in tqdm(df_features_2013.iterrows()):\n",
    "    temporary_dictionary = {}\n",
    "    movie1 = row['title']\n",
    "    for index2, row2 in df_features_2013.iloc[index+1:].iterrows():\n",
    "        \n",
    "        title_score = compute_jaccard_similarity(row['title_clean'],row2['title_clean'])\n",
    "        genre_score = compute_jaccard_similarity(row['genres'],row2['genres'])\n",
    "        production_companies_score = compute_jaccard_similarity(row['production_companies'],row2['production_companies'])\n",
    "        cast_score = compute_jaccard_similarity(row['cast_members'],row2['cast_members'])\n",
    "        creative_score = compute_jaccard_similarity(row['creative_members'],row2['creative_members'])\n",
    "        plot_keyword_score = compute_jaccard_similarity(row['plot_keywords'],row2['plot_keywords'])\n",
    "        \n",
    "        film_rating_score = compute_film_rating_similarity(row['adult'],row2['adult'])\n",
    "        released_year_score = compute_closeness_score(row['released_year'],row2['released_year'])\n",
    "        runtime_score = compute_closeness_score(row['runtime'],row2['runtime'])\n",
    "        vote_avg_score = compute_closeness_score(row['vote_average'],row2['vote_average'])\n",
    "        \n",
    "        plot_similarity_score = (1-cosine(row['overview_embeddings'],row2['overview_embeddings']))*100\n",
    "        \n",
    "        movie2 = row2['title']\n",
    "        \n",
    "        final_score = plot_similarity_score*0.3 + 0.1*genre_score + 0.1*cast_score + 0.1*creative_score \n",
    "        + 0.1*plot_keyword_score + 0.2*title_score + 0.02*vote_avg_score +0.02*production_companies_score\n",
    "        + 0.02*film_rating_score + 0.02*released_year_score + 0.02*runtime_score\n",
    "        \n",
    "        temporary_dictionary[movie2] = final_score\n",
    "        \n",
    "        initialize_dictionary(movie1,movie2,title_score,genre_score,production_companies_score,\n",
    "                          cast_score,creative_score,plot_keyword_score,film_rating_score,\n",
    "                          released_year_score,runtime_score,vote_avg_score,plot_similarity_score,final_score)\n",
    "                \n",
    "        initialize_dictionary(movie2,movie1,title_score,genre_score,production_companies_score,\n",
    "                          cast_score,creative_score,plot_keyword_score,film_rating_score,\n",
    "                          released_year_score,runtime_score,vote_avg_score,plot_similarity_score,final_score)\n",
    "    \n",
    "    \n",
    "    temporary_dictionary = sorted(temporary_dictionary.items(),key=lambda x:x[1],reverse=True)[:3]\n",
    "    recommendatation_model[movie1] = temporary_dictionary\n",
    "    "
   ]
  },
  {
   "cell_type": "code",
   "execution_count": null,
   "id": "106ad8ca",
   "metadata": {},
   "outputs": [],
   "source": [
    "recommendatation_model"
   ]
  },
  {
   "cell_type": "code",
   "execution_count": null,
   "id": "8a391170",
   "metadata": {},
   "outputs": [],
   "source": [
    "df_total.columns"
   ]
  },
  {
   "cell_type": "code",
   "execution_count": null,
   "id": "7ab4a4a8",
   "metadata": {},
   "outputs": [],
   "source": [
    "df_total.columns"
   ]
  },
  {
   "cell_type": "code",
   "execution_count": null,
   "id": "3d21dc23",
   "metadata": {},
   "outputs": [],
   "source": [
    "def depth_limited_search(recommendation_model, source_movie, limit=2):\n",
    "    \n",
    "    movie_stack = []\n",
    "    movie_stack.append(source_movie)\n",
    "    depth = 0\n",
    "    depth_stack = []\n",
    "    depth_stack.append(depth)\n",
    "    recommendations = []\n",
    "    \n",
    "    while(len(movie_stack)!=0):\n",
    "        \n",
    "        movie_popped = movie_stack.pop()\n",
    "        curr_depth = depth_stack.pop()\n",
    "\n",
    "        if curr_depth > limit or movie_popped in recommendations:\n",
    "            continue\n",
    "            \n",
    "        movie_neighbours = [t[0] for t in recommendation_model[movie_popped]]\n",
    "        depth = curr_depth + 1\n",
    "        depth_stack = depth_stack + [depth]*len(movie_neighbours)\n",
    "        movie_stack = movie_stack + movie_neighbours\n",
    "        recommendations.append(movie_popped)\n",
    "    \n",
    "    recommendations.remove(source_movie)\n",
    "    return recommendations"
   ]
  },
  {
   "cell_type": "code",
   "execution_count": null,
   "id": "a6a9e9c1",
   "metadata": {},
   "outputs": [],
   "source": [
    "depth_limited_search(recommendatation_model,'Airlift')"
   ]
  },
  {
   "cell_type": "code",
   "execution_count": null,
   "id": "5d42e7b9",
   "metadata": {},
   "outputs": [],
   "source": [
    "dump the recommendation model\n",
    "\n",
    "joblib.dump(recommendatation_model, open('../data/recommendation_model.pkl','wb'))"
   ]
  }
 ],
 "metadata": {
  "kernelspec": {
   "display_name": "Python 3",
   "language": "python",
   "name": "python3"
  },
  "language_info": {
   "codemirror_mode": {
    "name": "ipython",
    "version": 3
   },
   "file_extension": ".py",
   "mimetype": "text/x-python",
   "name": "python",
   "nbconvert_exporter": "python",
   "pygments_lexer": "ipython3",
   "version": "3.8.5"
  }
 },
 "nbformat": 4,
 "nbformat_minor": 5
}
